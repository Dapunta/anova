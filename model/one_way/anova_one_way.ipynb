{
 "cells": [
  {
   "cell_type": "markdown",
   "id": "9aef25fb",
   "metadata": {},
   "source": [
    "# Materi 2 : Studi Kasus One-Way ANOVA + Implementasi Python"
   ]
  },
  {
   "cell_type": "markdown",
   "id": "ab6fc23c",
   "metadata": {},
   "source": [
    "### 2.1. Studi Kasus\n",
    "\n",
    "Sebuah eksperimen dilakukan untuk mengukur waktu reaksi peserta dalam tiga kondisi berbeda :\n",
    "- Kondisi A : Ruangan tenang\n",
    "- Kondisi B : Ruangan berisik\n",
    "- Kondisi C : Menggunakan headphone noise-canceling\n",
    "\n",
    "Peneliti ingin mengetahui apakah kondisi lingkungan mempengaruhi rata-rata waktu reaksi.\n",
    "\n",
    "- H₀ : Tidak ada perbedaan rata-rata waktu reaksi antar kondisi.\n",
    "- H₁ : Setidaknya ada dua kondisi yang memiliki rata-rata waktu reaksi yang berbeda secara signifikan."
   ]
  },
  {
   "cell_type": "markdown",
   "id": "6f489783",
   "metadata": {},
   "source": [
    "### 2.2. Struktur Data\n",
    "\n",
    "[dataset.csv](/model/one_way/dataset.csv) terdiri dari:\n",
    "- `value` : waktu reaksi dalam milidetik\n",
    "- `treatment` : kategori kondisi (A, B, atau C)"
   ]
  },
  {
   "cell_type": "markdown",
   "id": "eefab147",
   "metadata": {},
   "source": [
    "### 2.3. Module & Library"
   ]
  },
  {
   "cell_type": "code",
   "execution_count": 6,
   "id": "1df19df2",
   "metadata": {},
   "outputs": [],
   "source": [
    "import numpy as np\n",
    "import pandas as pd\n",
    "import seaborn as sns\n",
    "import matplotlib.pyplot as plt\n",
    "from statsmodels.formula.api import ols\n",
    "from statsmodels.stats.anova import anova_lm\n",
    "from statsmodels.stats.multicomp import pairwise_tukeyhsd"
   ]
  },
  {
   "cell_type": "markdown",
   "id": "f07d43f9",
   "metadata": {},
   "source": [
    "### 2.4. Membaca Dataset dari File CSV"
   ]
  },
  {
   "cell_type": "code",
   "execution_count": 7,
   "id": "2e3919f5",
   "metadata": {},
   "outputs": [
    {
     "data": {
      "text/html": [
       "<div>\n",
       "<style scoped>\n",
       "    .dataframe tbody tr th:only-of-type {\n",
       "        vertical-align: middle;\n",
       "    }\n",
       "\n",
       "    .dataframe tbody tr th {\n",
       "        vertical-align: top;\n",
       "    }\n",
       "\n",
       "    .dataframe thead th {\n",
       "        text-align: right;\n",
       "    }\n",
       "</style>\n",
       "<table border=\"1\" class=\"dataframe\">\n",
       "  <thead>\n",
       "    <tr style=\"text-align: right;\">\n",
       "      <th></th>\n",
       "      <th>value</th>\n",
       "      <th>treatment</th>\n",
       "    </tr>\n",
       "  </thead>\n",
       "  <tbody>\n",
       "    <tr>\n",
       "      <th>0</th>\n",
       "      <td>257.450712</td>\n",
       "      <td>A</td>\n",
       "    </tr>\n",
       "    <tr>\n",
       "      <th>1</th>\n",
       "      <td>247.926035</td>\n",
       "      <td>A</td>\n",
       "    </tr>\n",
       "    <tr>\n",
       "      <th>2</th>\n",
       "      <td>259.715328</td>\n",
       "      <td>A</td>\n",
       "    </tr>\n",
       "    <tr>\n",
       "      <th>3</th>\n",
       "      <td>272.845448</td>\n",
       "      <td>A</td>\n",
       "    </tr>\n",
       "    <tr>\n",
       "      <th>4</th>\n",
       "      <td>246.487699</td>\n",
       "      <td>A</td>\n",
       "    </tr>\n",
       "  </tbody>\n",
       "</table>\n",
       "</div>"
      ],
      "text/plain": [
       "        value treatment\n",
       "0  257.450712         A\n",
       "1  247.926035         A\n",
       "2  259.715328         A\n",
       "3  272.845448         A\n",
       "4  246.487699         A"
      ]
     },
     "execution_count": 7,
     "metadata": {},
     "output_type": "execute_result"
    }
   ],
   "source": [
    "df = pd.read_csv(\"/model/one_way/dataset.csv\")\n",
    "df.head()"
   ]
  },
  {
   "cell_type": "markdown",
   "id": "4f7c4118",
   "metadata": {},
   "source": [
    "### 2.5. Visualisasi Data dengan Boxplot"
   ]
  },
  {
   "cell_type": "code",
   "execution_count": 8,
   "id": "6f350cbe",
   "metadata": {},
   "outputs": [
    {
     "data": {
      "image/png": "[encoded data removed]",
      "text/plain": [
       "<Figure size 800x500 with 1 Axes>"
      ]
     },
     "metadata": {},
     "output_type": "display_data"
    }
   ],
   "source": [
    "plt.figure(figsize=(8, 5))\n",
    "sns.boxplot(x='treatment', y='value', data=df)\n",
    "plt.title(\"Distribusi Waktu Reaksi per Perlakuan\")\n",
    "plt.xlabel(\"Kondisi Perlakuan\")\n",
    "plt.ylabel(\"Waktu Reaksi (ms)\")\n",
    "plt.grid(True)\n",
    "plt.show()"
   ]
  },
  {
   "cell_type": "markdown",
   "id": "4338cd63",
   "metadata": {},
   "source": [
    "### 2.6. Uji ANOVA"
   ]
  },
  {
   "cell_type": "code",
   "execution_count": 9,
   "id": "61d18df7",
   "metadata": {},
   "outputs": [
    {
     "name": "stdout",
     "output_type": "stream",
     "text": [
      "Hasil ANOVA\n",
      "                    sum_sq    df          F    PR(>F)\n",
      "C(treatment)   6404.740682   2.0  11.331025  0.000042\n",
      "Residual      24587.909809  87.0        NaN       NaN\n"
     ]
    }
   ],
   "source": [
    "model = ols('value ~ C(treatment)', data=df).fit()\n",
    "anova_results = anova_lm(model, typ=2)\n",
    "print(\"Hasil ANOVA\")\n",
    "print(anova_results)"
   ]
  },
  {
   "cell_type": "markdown",
   "id": "892dd7c9",
   "metadata": {},
   "source": [
    "### 2.7. Interpretasi Output\n",
    "\n",
    "Dari hasil ANOVA:\n",
    "- Nilai F-statistic = 11.33\n",
    "- Nilai p-value = 0.000042 (jauh < 0.05)\n",
    "\n",
    "Interpretasi:\n",
    "- Terdapat cukup bukti statistik untuk menolak hipotesis nol (H₀), yang menyatakan bahwa semua rata-rata waktu reaksi sama.\n",
    "- Artinya, setidaknya satu grup perlakuan (A, B, atau C) memiliki rata-rata yang berbeda secara signifikan dibandingkan grup lainnya."
   ]
  },
  {
   "cell_type": "markdown",
   "id": "f67a9b64",
   "metadata": {},
   "source": [
    "### 2.8. Uji Lanjutan : Tukey HSD"
   ]
  },
  {
   "cell_type": "code",
   "execution_count": 10,
   "id": "4a2f942e",
   "metadata": {},
   "outputs": [
    {
     "name": "stdout",
     "output_type": "stream",
     "text": [
      "Hasil Tukey HSD\n",
      "Multiple Comparison of Means - Tukey HSD, FWER=0.05 \n",
      "====================================================\n",
      "group1 group2 meandiff p-adj   lower   upper  reject\n",
      "----------------------------------------------------\n",
      "     A      B   20.399    0.0 10.0487 30.7492   True\n",
      "     A      C  13.0541 0.0096  2.7039 23.4043   True\n",
      "     B      C  -7.3448  0.214 -17.695  3.0054  False\n",
      "----------------------------------------------------\n"
     ]
    }
   ],
   "source": [
    "tukey = pairwise_tukeyhsd(endog=df['value'], groups=df['treatment'], alpha=0.05)\n",
    "print(\"Hasil Tukey HSD\")\n",
    "print(tukey)"
   ]
  },
  {
   "cell_type": "markdown",
   "id": "9fa14f68",
   "metadata": {},
   "source": [
    "### 2.9. Kesimpulan\n",
    "\n",
    "- One-Way ANOVA menunjukkan bahwa kondisi eksperimen berpengaruh signifikan terhadap waktu reaksi peserta.\n",
    "- Uji lanjut Tukey HSD memperkuat temuan dengan menunjukkan pasangan grup yang berbeda nyata.\n",
    "- Peneliti dapat menyimpulkan bahwa lingkungan (tenang, berisik, noise-canceling) memang memiliki efek terhadap kecepatan respon manusia dalam tugas tertentu."
   ]
  }
 ],
 "metadata": {
  "kernelspec": {
   "display_name": "base",
   "language": "python",
   "name": "python3"
  },
  "language_info": {
   "codemirror_mode": {
    "name": "ipython",
    "version": 3
   },
   "file_extension": ".py",
   "mimetype": "text/x-python",
   "name": "python",
   "nbconvert_exporter": "python",
   "pygments_lexer": "ipython3",
   "version": "3.12.4"
  }
 },
 "nbformat": 4,
 "nbformat_minor": 5
}
